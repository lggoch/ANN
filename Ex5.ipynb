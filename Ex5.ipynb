{
 "cells": [
  {
   "cell_type": "markdown",
   "metadata": {},
   "source": [
    "# Exercise 5: Comparison to deep models\n",
    "\n",
    "### Description\n",
    "\n",
    "Instead of choosing one hidden layer (with many neurons) you experiment here with multiple hidden layers (each with not so many neurons).\n",
    "\n",
    "1. Fit models with 2, 3 and 4 hidden layers with approximately the same number of parameters as a network with one hidden layer of 100 neurons. Hint: Calculate the number of parameters in a network with input dimensionality N_in, K hidden layers with N_h units, one output layer with N_out dimensions and solve for N_h. Confirm you result with the keras method model.summary().\n",
    "2. Run each model multiple times with different initial conditions and plot summary statistics of the best validation loss and accuracy versus the number of hidden layers.\n",
    "\n",
    "### Solution"
   ]
  },
  {
   "cell_type": "markdown",
   "metadata": {},
   "source": [
    "model with 100 hidden neurons in 1 hidden layer ==> **26205 params**"
   ]
  },
  {
   "cell_type": "markdown",
   "metadata": {},
   "source": [
    "### 1. Fit models with 2, 3 and 4 hidden layers with approximately the same number of parameters as a network with one hidden layer of 100 neurons."
   ]
  },
  {
   "cell_type": "markdown",
   "metadata": {},
   "source": [
    "    a. Model with 1 hidden layer of 100 neurons"
   ]
  },
  {
   "cell_type": "code",
   "execution_count": 64,
   "metadata": {},
   "outputs": [],
   "source": [
    "callback = [keras.callbacks.EarlyStopping(monitor='val_loss', min_delta=0, patience=20, verbose=1, mode='auto')]"
   ]
  },
  {
   "cell_type": "code",
   "execution_count": 53,
   "metadata": {},
   "outputs": [
    {
     "name": "stdout",
     "output_type": "stream",
     "text": [
      "Epoch 00081: early stopping\n",
      "14629/14629 [==============================] - 1s 53us/step\n",
      "_________________________________________________________________\n",
      "Layer (type)                 Output Shape              Param #   \n",
      "=================================================================\n",
      "dense_108 (Dense)            (None, 100)               25700     \n",
      "_________________________________________________________________\n",
      "dense_109 (Dense)            (None, 5)                 505       \n",
      "=================================================================\n",
      "Total params: 26,205\n",
      "Trainable params: 26,205\n",
      "Non-trainable params: 0\n",
      "_________________________________________________________________\n"
     ]
    }
   ],
   "source": [
    "model_1l = Sequential([Dense(units=100, input_dim=256, activation= 'relu'),\n",
    "                    Dense(5,activation= 'softmax')])\n",
    "model_1l.compile(optimizer='Adam', loss='categorical_crossentropy', metrics=['accuracy'])\n",
    "hist_1l = model_1l.fit(x_train, y_train, validation_data= (x_test, y_test),batch_size=128, epochs=100, callbacks= callback_1l, verbose=0)\n",
    "acc_1l = model_1l.evaluate(x_test, y_test, verbose=1)\n",
    "model_1l.summary()"
   ]
  },
  {
   "cell_type": "code",
   "execution_count": 62,
   "metadata": {},
   "outputs": [
    {
     "name": "stdout",
     "output_type": "stream",
     "text": [
      "Accuracy = 87.96000000000001%\n"
     ]
    }
   ],
   "source": [
    "print('Accuracy = {}%'.format(round(acc_1l[1], 4)*100))"
   ]
  },
  {
   "cell_type": "markdown",
   "metadata": {},
   "source": [
    "    b. Model with 2 hidden layers of 77 neurons each"
   ]
  },
  {
   "cell_type": "code",
   "execution_count": 68,
   "metadata": {
    "scrolled": true
   },
   "outputs": [
    {
     "name": "stdout",
     "output_type": "stream",
     "text": [
      "Epoch 00064: early stopping\n",
      "Accuracy = 87.14%\n",
      "_________________________________________________________________\n",
      "Layer (type)                 Output Shape              Param #   \n",
      "=================================================================\n",
      "dense_120 (Dense)            (None, 77)                19789     \n",
      "_________________________________________________________________\n",
      "dense_121 (Dense)            (None, 77)                6006      \n",
      "_________________________________________________________________\n",
      "dense_122 (Dense)            (None, 5)                 390       \n",
      "=================================================================\n",
      "Total params: 26,185\n",
      "Trainable params: 26,185\n",
      "Non-trainable params: 0\n",
      "_________________________________________________________________\n"
     ]
    }
   ],
   "source": [
    "model_2l = Sequential([Dense(units=77, input_dim=256, activation= 'relu'), \n",
    "                       Dense(77,activation= 'relu'), \n",
    "                       Dense(5,activation= 'softmax')])\n",
    "model_2l.compile(optimizer='Adam', loss='categorical_crossentropy', metrics=['accuracy'])\n",
    "model_2l.fit(x_train, y_train, validation_data= (x_test, y_test),batch_size=128, epochs=100, callbacks= callback, verbose=0)\n",
    "acc_2l = model_2l.evaluate(x_test, y_test, verbose=0)\n",
    "print('Accuracy = {}%'.format(round(acc_2l[1], 4)*100))\n",
    "model_2l.summary()"
   ]
  },
  {
   "cell_type": "markdown",
   "metadata": {},
   "source": [
    "        c. Model with 3 hidden layers of 66 neurons each"
   ]
  },
  {
   "cell_type": "code",
   "execution_count": 71,
   "metadata": {},
   "outputs": [
    {
     "name": "stdout",
     "output_type": "stream",
     "text": [
      "Epoch 00050: early stopping\n",
      "Accuracy = 86.9%\n",
      "_________________________________________________________________\n",
      "Layer (type)                 Output Shape              Param #   \n",
      "=================================================================\n",
      "dense_132 (Dense)            (None, 66)                16962     \n",
      "_________________________________________________________________\n",
      "dense_133 (Dense)            (None, 66)                4422      \n",
      "_________________________________________________________________\n",
      "dense_134 (Dense)            (None, 66)                4422      \n",
      "_________________________________________________________________\n",
      "dense_135 (Dense)            (None, 5)                 335       \n",
      "=================================================================\n",
      "Total params: 26,141\n",
      "Trainable params: 26,141\n",
      "Non-trainable params: 0\n",
      "_________________________________________________________________\n"
     ]
    }
   ],
   "source": [
    "model_3l = Sequential([Dense(units=66, input_dim=256, activation= 'relu'), \n",
    "                       Dense(66,activation= 'relu'), Dense(66,activation= 'relu'), \n",
    "                       Dense(5,activation= 'softmax')])\n",
    "model_3l.compile(optimizer='Adam', loss='categorical_crossentropy', metrics=['accuracy'])\n",
    "model_3l.fit(x_train, y_train, validation_data= (x_test, y_test),batch_size=128, epochs=100, callbacks= callback, verbose=0)\n",
    "acc_3l = model_3l.evaluate(x_test, y_test, verbose=0)\n",
    "print('Accuracy = {}%'.format(round(acc_3l[1], 4)*100))\n",
    "model_3l.summary()"
   ]
  },
  {
   "cell_type": "markdown",
   "metadata": {},
   "source": [
    "        d. Model with 4 hidden layers of 59 neurons each"
   ]
  },
  {
   "cell_type": "code",
   "execution_count": 72,
   "metadata": {},
   "outputs": [
    {
     "name": "stdout",
     "output_type": "stream",
     "text": [
      "Epoch 00051: early stopping\n",
      "Accuracy = 86.9%\n",
      "_________________________________________________________________\n",
      "Layer (type)                 Output Shape              Param #   \n",
      "=================================================================\n",
      "dense_136 (Dense)            (None, 59)                15163     \n",
      "_________________________________________________________________\n",
      "dense_137 (Dense)            (None, 59)                3540      \n",
      "_________________________________________________________________\n",
      "dense_138 (Dense)            (None, 59)                3540      \n",
      "_________________________________________________________________\n",
      "dense_139 (Dense)            (None, 59)                3540      \n",
      "_________________________________________________________________\n",
      "dense_140 (Dense)            (None, 5)                 300       \n",
      "=================================================================\n",
      "Total params: 26,083\n",
      "Trainable params: 26,083\n",
      "Non-trainable params: 0\n",
      "_________________________________________________________________\n"
     ]
    }
   ],
   "source": [
    "model_4l = Sequential([Dense(units=59, input_dim=256, activation= 'relu'), \n",
    "                       Dense(59,activation= 'relu'), \n",
    "                       Dense(59,activation= 'relu'), \n",
    "                       Dense(59,activation= 'relu'),\n",
    "                       Dense(5,activation= 'softmax')])\n",
    "model_4l.compile(optimizer='Adam', loss='categorical_crossentropy', metrics=['accuracy'])\n",
    "model_4l.fit(x_train, y_train, validation_data= (x_test, y_test),batch_size=128, epochs=100, callbacks= callback, verbose=0)\n",
    "acc_4l = model_3l.evaluate(x_test, y_test, verbose=0)\n",
    "print('Accuracy = {}%'.format(round(acc_4l[1], 4)*100))\n",
    "model_4l.summary()"
   ]
  },
  {
   "cell_type": "markdown",
   "metadata": {},
   "source": [
    "### 2. Run each model multiple times with different initial conditions and plot summary statistics of the best validation loss and accuracy versus the number of hidden layers."
   ]
  },
  {
   "cell_type": "code",
   "execution_count": 77,
   "metadata": {},
   "outputs": [],
   "source": [
    "callback = [keras.callbacks.EarlyStopping(monitor='val_loss', min_delta=0, patience=20, verbose=0, mode='auto')]\n",
    "\n",
    "hists_2l = []\n",
    "hists_3l = []\n",
    "hists_4l = []\n",
    "\n",
    "accs_2l = []\n",
    "accs_3l = []\n",
    "accs_4l = []\n",
    "\n",
    "for i in range(20):\n",
    "    m2 = Sequential([Dense(units=77, input_dim=256, activation= 'relu'), \n",
    "                       Dense(77,activation= 'relu'), \n",
    "                       Dense(5,activation= 'softmax')])\n",
    "    \n",
    "    m3 = Sequential([Dense(units=66, input_dim=256, activation= 'relu'), \n",
    "                       Dense(66,activation= 'relu'), Dense(66,activation= 'relu'), \n",
    "                       Dense(5,activation= 'softmax')])\n",
    "    \n",
    "    m4 = Sequential([Dense(units=59, input_dim=256, activation= 'relu'), \n",
    "                       Dense(59,activation= 'relu'), \n",
    "                       Dense(59,activation= 'relu'), \n",
    "                       Dense(59,activation= 'relu'),\n",
    "                       Dense(5,activation= 'softmax')])\n",
    "    \n",
    "    for m in [m2, m3, m4]:\n",
    "        m.compile(optimizer='Adam', loss='categorical_crossentropy', metrics=['accuracy'])\n",
    "        \n",
    "    hists_2l.append(m2.fit(x_train, y_train, validation_data= (x_test, y_test),batch_size=128, epochs=100, callbacks= callback, verbose=0))\n",
    "    hists_3l.append(m3.fit(x_train, y_train, validation_data= (x_test, y_test),batch_size=128, epochs=100, callbacks= callback, verbose=0))\n",
    "    hists_4l.append(m4.fit(x_train, y_train, validation_data= (x_test, y_test),batch_size=128, epochs=100, callbacks= callback, verbose=0))\n",
    "    \n",
    "    accs_2l.append(m2.evaluate(x_test, y_test, verbose=0))\n",
    "    accs_3l.append(m3.evaluate(x_test, y_test, verbose=0))\n",
    "    accs_4l.append(m4.evaluate(x_test, y_test, verbose=0))"
   ]
  },
  {
   "cell_type": "code",
   "execution_count": 146,
   "metadata": {},
   "outputs": [
    {
     "name": "stdout",
     "output_type": "stream",
     "text": [
      "Best accuracy for model of 2 layers = 0.880716385266225\n",
      "Best accuracy for model of 3 layers = 0.8790758083300023\n",
      "Best accuracy for model of 4 layers = 0.8768200150467708\n"
     ]
    }
   ],
   "source": [
    "max_2l = max([a[1] for a in accs_2l])\n",
    "max_3l = max([a[1] for a in accs_3l])\n",
    "max_4l = max([a[1] for a in accs_4l])\n",
    "\n",
    "max_accs = [max_2l, max_3l, max_4l]\n",
    "\n",
    "for i in range(3):\n",
    "    print('Best accuracy for model of {} layers = {}'.format(i+2, max_accs[i]))"
   ]
  },
  {
   "cell_type": "code",
   "execution_count": 125,
   "metadata": {},
   "outputs": [],
   "source": [
    "accs = [accs_2l, accs_3l, accs_4l]\n",
    "\n",
    "val_accs = []\n",
    "val_loss = []\n",
    "\n",
    "for a in accs:\n",
    "    val_accs.append([x[1] for x in a])\n",
    "    val_loss.append([x[0] for x in a])"
   ]
  },
  {
   "cell_type": "code",
   "execution_count": 135,
   "metadata": {},
   "outputs": [
    {
     "data": {
      "image/png": "[encoded data removed]",
      "text/plain": [
       "<matplotlib.figure.Figure at 0x18729b6630>"
      ]
     },
     "metadata": {},
     "output_type": "display_data"
    }
   ],
   "source": [
    "xlabel = ['2', '3', '4']\n",
    "fig, (ax1,ax2) = plt.subplots(1,2, figsize=(30,10))\n",
    "    #plt.subplot(1,1)\n",
    "ax1.boxplot(val_loss)\n",
    "ax1.set_xticklabels(xlabel)\n",
    "ax1.set_xlabel(\"Number of hidden layers\")\n",
    "ax1.set_ylabel(\"Loss\")\n",
    "    #fig1, ax2 = plt.subplots()\n",
    "ax2.boxplot(val_accs)\n",
    "ax2.set_xticklabels(xlabel)\n",
    "ax2.set_xlabel(\"Number of hidden layers\")\n",
    "ax2.set_ylabel(\"Accuracy\")\n",
    "fig.suptitle(\"Boxplots for accuracy and loss for NNs of different hidden layers\", fontsize=24)\n",
    "plt.show()"
   ]
  }
 ],
 "metadata": {
  "kernelspec": {
   "display_name": "Python 3",
   "language": "python",
   "name": "python3"
  },
  "language_info": {
   "codemirror_mode": {
    "name": "ipython",
    "version": 3
   },
   "file_extension": ".py",
   "mimetype": "text/x-python",
   "name": "python",
   "nbconvert_exporter": "python",
   "pygments_lexer": "ipython3",
   "version": "3.6.4"
  }
 },
 "nbformat": 4,
 "nbformat_minor": 2
}
